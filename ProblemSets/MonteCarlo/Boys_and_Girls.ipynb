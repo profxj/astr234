{
 "cells": [
  {
   "cell_type": "markdown",
   "id": "fd39e412-bb9e-49ec-a1b6-23b60efaea4d",
   "metadata": {},
   "source": [
    "# Boys and Girls\n",
    "\n",
    "## aka, Wall & Jenkins 2.9"
   ]
  },
  {
   "cell_type": "code",
   "execution_count": 2,
   "id": "d1ad2d3d-e559-419c-b36e-66bbcedaf8dd",
   "metadata": {
    "tags": []
   },
   "outputs": [],
   "source": [
    "# imports\n",
    "import numpy as np\n",
    "\n",
    "import seaborn\n",
    "import pandas"
   ]
  },
  {
   "cell_type": "markdown",
   "id": "2ee3c1eb-8063-4599-84e8-2e1f8ac6ee8a",
   "metadata": {},
   "source": [
    "# Problem \n",
    "\n",
    "### Imagine a society where boys and girls were biologically equally likely to be born, but families cease producing children after the birth of the first girl. Are there more males or females in the population? \n",
    "\n",
    "### Simulate using Monte Carlo"
   ]
  },
  {
   "cell_type": "markdown",
   "id": "d4c0867b-734f-44c0-acfe-1b260ccf1c28",
   "metadata": {},
   "source": [
    "# Init"
   ]
  },
  {
   "cell_type": "code",
   "execution_count": 20,
   "id": "37c62b09-7f46-40a5-b1a2-5ed28fcd76f2",
   "metadata": {
    "tags": []
   },
   "outputs": [],
   "source": [
    "nmothers = 100000"
   ]
  },
  {
   "cell_type": "markdown",
   "id": "3e934133-b573-4eea-a489-1a0bc586018f",
   "metadata": {},
   "source": [
    "# Random number for first child"
   ]
  },
  {
   "cell_type": "code",
   "execution_count": 21,
   "id": "c3d759f5-a51d-4aa1-82ac-d0b5ae697fdf",
   "metadata": {
    "tags": []
   },
   "outputs": [],
   "source": [
    "random_first = np.random.randint(2, size=nmothers)"
   ]
  },
  {
   "cell_type": "code",
   "execution_count": 22,
   "id": "69264404-0151-464f-b6d7-a57b1bb2191d",
   "metadata": {
    "tags": []
   },
   "outputs": [],
   "source": [
    "boys_first = random_first == 0\n",
    "girls_first = np.logical_not(boys_first)"
   ]
  },
  {
   "cell_type": "markdown",
   "id": "340bef5c-2f69-43ea-8023-32d301a2cb8e",
   "metadata": {},
   "source": [
    "## Count the first go"
   ]
  },
  {
   "cell_type": "code",
   "execution_count": 23,
   "id": "6f372bc1-3982-4f51-b7bf-d87e0e8e25a8",
   "metadata": {
    "tags": []
   },
   "outputs": [
    {
     "name": "stdout",
     "output_type": "stream",
     "text": [
      "We have 49767 boys and 50233 girls for first borns.\n"
     ]
    }
   ],
   "source": [
    "nboys_1 = np.sum(boys_first)\n",
    "ngirls_1 = np.sum(girls_first)\n",
    "#\n",
    "print(f'We have {nboys_1} boys and {ngirls_1} girls for first borns.')"
   ]
  },
  {
   "cell_type": "code",
   "execution_count": 24,
   "id": "e605fc51-b861-4f59-aa99-73b3582221b7",
   "metadata": {
    "tags": []
   },
   "outputs": [],
   "source": [
    "total_boys = nboys_1\n",
    "total_girls = ngirls_1"
   ]
  },
  {
   "cell_type": "markdown",
   "id": "efff1c19-4e20-461c-a876-7462df4dac62",
   "metadata": {
    "tags": []
   },
   "source": [
    "## Do the rest\n",
    "\n",
    "### Note: we could have used the following method for all the generations, but wanted to examine the first born for pedagogy"
   ]
  },
  {
   "cell_type": "code",
   "execution_count": 25,
   "id": "47a75e49-9d63-4baa-a082-94dd69b37a9a",
   "metadata": {
    "tags": []
   },
   "outputs": [],
   "source": [
    "still_birthing = nboys_1"
   ]
  },
  {
   "cell_type": "code",
   "execution_count": 26,
   "id": "156d4541-91ad-4f1f-8932-21809cfe0bae",
   "metadata": {},
   "outputs": [
    {
     "name": "stdout",
     "output_type": "stream",
     "text": [
      "Generation: 2 -- There are 24856 mothers still trying!\n",
      "Generation: 3 -- There are 12434 mothers still trying!\n",
      "Generation: 4 -- There are 6288 mothers still trying!\n",
      "Generation: 5 -- There are 3209 mothers still trying!\n",
      "Generation: 6 -- There are 1624 mothers still trying!\n",
      "Generation: 7 -- There are 828 mothers still trying!\n",
      "Generation: 8 -- There are 407 mothers still trying!\n",
      "Generation: 9 -- There are 214 mothers still trying!\n",
      "Generation: 10 -- There are 102 mothers still trying!\n",
      "Generation: 11 -- There are 49 mothers still trying!\n",
      "Generation: 12 -- There are 26 mothers still trying!\n",
      "Generation: 13 -- There are 12 mothers still trying!\n",
      "Generation: 14 -- There are 7 mothers still trying!\n",
      "Generation: 15 -- There are 2 mothers still trying!\n",
      "Generation: 16 -- There are 1 mothers still trying!\n",
      "Generation: 17 -- There are 1 mothers still trying!\n",
      "Generation: 18 -- There are 1 mothers still trying!\n",
      "Generation: 19 -- There are 1 mothers still trying!\n",
      "Generation: 20 -- There are 1 mothers still trying!\n",
      "Generation: 21 -- There are 0 mothers still trying!\n"
     ]
    }
   ],
   "source": [
    "ngen = 2\n",
    "while still_birthing > 0:\n",
    "    # Random numbers\n",
    "    boygirl = np.random.randint(2, size=still_birthing)\n",
    "    # The mothers with a girl stop trying\n",
    "    girl = boygirl == 1\n",
    "    total_girls += np.sum(girl)\n",
    "    # Boys\n",
    "    new_boys = np.sum(np.logical_not(girl))\n",
    "    total_boys += new_boys\n",
    "    still_birthing = new_boys\n",
    "    # The others had another boy!\n",
    "    print(f'Generation: {ngen} -- There are {np.sum(still_birthing)} mothers still trying!')\n",
    "    ngen += 1\n",
    "    # Debuggin\n",
    "    #if ngen > 100000:\n",
    "    #    break"
   ]
  },
  {
   "cell_type": "markdown",
   "id": "eb9fb587-2d86-4cfb-bed0-58e2999bf46d",
   "metadata": {},
   "source": [
    "# Finish"
   ]
  },
  {
   "cell_type": "code",
   "execution_count": 27,
   "id": "da9f231d-cdc4-47db-87eb-4fc684ac1740",
   "metadata": {
    "tags": []
   },
   "outputs": [],
   "source": [
    "assert total_girls == nmothers"
   ]
  },
  {
   "cell_type": "code",
   "execution_count": 28,
   "id": "958fdbc7-6420-43d9-98e7-78b4b56cebc1",
   "metadata": {
    "tags": []
   },
   "outputs": [
    {
     "name": "stdout",
     "output_type": "stream",
     "text": [
      "The 100000 mothers gave birth to 99830 boys and 100000 girls.\n"
     ]
    }
   ],
   "source": [
    "print(f'The {nmothers} mothers gave birth to {total_boys} boys and {total_girls} girls.')"
   ]
  },
  {
   "cell_type": "code",
   "execution_count": null,
   "id": "152b677d-a3fe-4927-8d5f-11c62dfcc1d0",
   "metadata": {},
   "outputs": [],
   "source": []
  }
 ],
 "metadata": {
  "kernelspec": {
   "display_name": "Python 3 (ipykernel)",
   "language": "python",
   "name": "python3"
  },
  "language_info": {
   "codemirror_mode": {
    "name": "ipython",
    "version": 3
   },
   "file_extension": ".py",
   "mimetype": "text/x-python",
   "name": "python",
   "nbconvert_exporter": "python",
   "pygments_lexer": "ipython3",
   "version": "3.10.9"
  }
 },
 "nbformat": 4,
 "nbformat_minor": 5
}
