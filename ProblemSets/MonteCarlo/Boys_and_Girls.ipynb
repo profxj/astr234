{
 "cells": [
  {
   "cell_type": "markdown",
   "id": "fd39e412-bb9e-49ec-a1b6-23b60efaea4d",
   "metadata": {},
   "source": [
    "# Boys and Girls\n",
    "\n",
    "## aka, Wall & Jenkins 2.9"
   ]
  },
  {
   "cell_type": "code",
   "execution_count": 1,
   "id": "d1ad2d3d-e559-419c-b36e-66bbcedaf8dd",
   "metadata": {
    "tags": []
   },
   "outputs": [],
   "source": [
    "# imports\n",
    "import numpy as np\n",
    "\n",
    "import seaborn\n",
    "from matplotlib import pyplot as plt\n",
    "import pandas\n",
    "\n",
    "from astr234 import plotting"
   ]
  },
  {
   "cell_type": "markdown",
   "id": "2ee3c1eb-8063-4599-84e8-2e1f8ac6ee8a",
   "metadata": {},
   "source": [
    "# Problem \n",
    "\n",
    "### Imagine a society where boys and girls were biologically equally likely to be born, but families cease producing children after the birth of the first girl. Are there more males or females in the population? \n",
    "\n",
    "### Simulate using Monte Carlo"
   ]
  },
  {
   "cell_type": "markdown",
   "id": "d4c0867b-734f-44c0-acfe-1b260ccf1c28",
   "metadata": {},
   "source": [
    "# Init"
   ]
  },
  {
   "cell_type": "code",
   "execution_count": 2,
   "id": "37c62b09-7f46-40a5-b1a2-5ed28fcd76f2",
   "metadata": {
    "tags": []
   },
   "outputs": [],
   "source": [
    "nmothers = 100000"
   ]
  },
  {
   "cell_type": "markdown",
   "id": "3e934133-b573-4eea-a489-1a0bc586018f",
   "metadata": {},
   "source": [
    "# Random number for first child"
   ]
  },
  {
   "cell_type": "code",
   "execution_count": 3,
   "id": "c3d759f5-a51d-4aa1-82ac-d0b5ae697fdf",
   "metadata": {
    "tags": []
   },
   "outputs": [],
   "source": [
    "random_first = np.random.randint(2, size=nmothers)"
   ]
  },
  {
   "cell_type": "code",
   "execution_count": 4,
   "id": "69264404-0151-464f-b6d7-a57b1bb2191d",
   "metadata": {
    "tags": []
   },
   "outputs": [],
   "source": [
    "boys_first = random_first == 0\n",
    "girls_first = np.logical_not(boys_first)"
   ]
  },
  {
   "cell_type": "markdown",
   "id": "340bef5c-2f69-43ea-8023-32d301a2cb8e",
   "metadata": {},
   "source": [
    "## Count the first go"
   ]
  },
  {
   "cell_type": "code",
   "execution_count": 5,
   "id": "6f372bc1-3982-4f51-b7bf-d87e0e8e25a8",
   "metadata": {
    "tags": []
   },
   "outputs": [
    {
     "name": "stdout",
     "output_type": "stream",
     "text": [
      "We have 50160 boys and 49840 girls for first borns.\n"
     ]
    }
   ],
   "source": [
    "nboys_1 = np.sum(boys_first)\n",
    "ngirls_1 = np.sum(girls_first)\n",
    "#\n",
    "print(f'We have {nboys_1} boys and {ngirls_1} girls for first borns.')"
   ]
  },
  {
   "cell_type": "markdown",
   "id": "38748af4-9f15-4705-b489-d9be247e70f1",
   "metadata": {},
   "source": [
    "# Total and cumulative"
   ]
  },
  {
   "cell_type": "code",
   "execution_count": 6,
   "id": "e605fc51-b861-4f59-aa99-73b3582221b7",
   "metadata": {
    "tags": []
   },
   "outputs": [],
   "source": [
    "total_boys = nboys_1\n",
    "total_girls = ngirls_1"
   ]
  },
  {
   "cell_type": "code",
   "execution_count": 7,
   "id": "3cfe960d-8d1b-42de-b131-fddc9c5dbbba",
   "metadata": {},
   "outputs": [],
   "source": [
    "cum_boys, cum_girls = [], []\n",
    "cum_boys.append(nboys_1)\n",
    "cum_girls.append(ngirls_1)"
   ]
  },
  {
   "cell_type": "markdown",
   "id": "efff1c19-4e20-461c-a876-7462df4dac62",
   "metadata": {
    "tags": []
   },
   "source": [
    "## Do the rest\n",
    "\n",
    "### Note: we could have used the following method for all the generations, but wanted to examine the first born for pedagogy"
   ]
  },
  {
   "cell_type": "code",
   "execution_count": 8,
   "id": "47a75e49-9d63-4baa-a082-94dd69b37a9a",
   "metadata": {
    "tags": []
   },
   "outputs": [],
   "source": [
    "still_birthing = nboys_1"
   ]
  },
  {
   "cell_type": "code",
   "execution_count": 9,
   "id": "156d4541-91ad-4f1f-8932-21809cfe0bae",
   "metadata": {},
   "outputs": [
    {
     "name": "stdout",
     "output_type": "stream",
     "text": [
      "Generation: 2 -- There are 25159 mothers still trying!\n",
      "Generation: 3 -- There are 12594 mothers still trying!\n",
      "Generation: 4 -- There are 6245 mothers still trying!\n",
      "Generation: 5 -- There are 3116 mothers still trying!\n",
      "Generation: 6 -- There are 1561 mothers still trying!\n",
      "Generation: 7 -- There are 804 mothers still trying!\n",
      "Generation: 8 -- There are 421 mothers still trying!\n",
      "Generation: 9 -- There are 208 mothers still trying!\n",
      "Generation: 10 -- There are 99 mothers still trying!\n",
      "Generation: 11 -- There are 44 mothers still trying!\n",
      "Generation: 12 -- There are 20 mothers still trying!\n",
      "Generation: 13 -- There are 12 mothers still trying!\n",
      "Generation: 14 -- There are 6 mothers still trying!\n",
      "Generation: 15 -- There are 2 mothers still trying!\n",
      "Generation: 16 -- There are 1 mothers still trying!\n",
      "Generation: 17 -- There are 1 mothers still trying!\n",
      "Generation: 18 -- There are 0 mothers still trying!\n"
     ]
    }
   ],
   "source": [
    "ngen = 2\n",
    "while still_birthing > 0:\n",
    "    # Random numbers\n",
    "    boygirl = np.random.randint(2, size=still_birthing)\n",
    "    # The mothers with a girl stop trying\n",
    "    girl = boygirl == 1\n",
    "    total_girls += np.sum(girl)\n",
    "    # Boys\n",
    "    new_boys = np.sum(np.logical_not(girl))\n",
    "    total_boys += new_boys\n",
    "    still_birthing = new_boys\n",
    "    # The others had another boy!\n",
    "    print(f'Generation: {ngen} -- There are {np.sum(still_birthing)} mothers still trying!')\n",
    "    ngen += 1\n",
    "    # Cumulative\n",
    "    cum_boys.append(total_boys)\n",
    "    cum_girls.append(total_girls)\n",
    "    # Debuggin\n",
    "    #if ngen > 100000:\n",
    "    #    break"
   ]
  },
  {
   "cell_type": "markdown",
   "id": "eb9fb587-2d86-4cfb-bed0-58e2999bf46d",
   "metadata": {},
   "source": [
    "# Finish"
   ]
  },
  {
   "cell_type": "code",
   "execution_count": 10,
   "id": "da9f231d-cdc4-47db-87eb-4fc684ac1740",
   "metadata": {
    "tags": []
   },
   "outputs": [],
   "source": [
    "assert total_girls == nmothers"
   ]
  },
  {
   "cell_type": "code",
   "execution_count": 11,
   "id": "958fdbc7-6420-43d9-98e7-78b4b56cebc1",
   "metadata": {
    "tags": []
   },
   "outputs": [
    {
     "name": "stdout",
     "output_type": "stream",
     "text": [
      "The 100000 mothers gave birth to 100453 boys and 100000 girls.\n"
     ]
    }
   ],
   "source": [
    "print(f'The {nmothers} mothers gave birth to {total_boys} boys and {total_girls} girls.')"
   ]
  },
  {
   "cell_type": "markdown",
   "id": "2beb05a3-b8d8-4407-b5af-379a52a21ec8",
   "metadata": {},
   "source": [
    "## Plot"
   ]
  },
  {
   "cell_type": "code",
   "execution_count": 12,
   "id": "a370649e-5b97-4ce8-893f-85f95cdfa7fe",
   "metadata": {},
   "outputs": [],
   "source": [
    "gens = np.arange(ngen-1)+1"
   ]
  },
  {
   "cell_type": "code",
   "execution_count": 13,
   "id": "2b08b39d-9e9b-4286-9732-b68411aa0f41",
   "metadata": {},
   "outputs": [
    {
     "data": {
      "text/plain": [
       "(18, 18)"
      ]
     },
     "execution_count": 13,
     "metadata": {},
     "output_type": "execute_result"
    }
   ],
   "source": [
    "len(gens), len(cum_boys)"
   ]
  },
  {
   "cell_type": "code",
   "execution_count": 15,
   "id": "fb87e0dc-31c3-4da1-83b1-fbc1d0babdbd",
   "metadata": {},
   "outputs": [
    {
     "data": {
      "image/png": "[encoded data removed]",
      "text/plain": [
       "<Figure size 648x648 with 1 Axes>"
      ]
     },
     "metadata": {
      "needs_background": "light"
     },
     "output_type": "display_data"
    }
   ],
   "source": [
    "plt.figure(figsize=(9,9))\n",
    "plt.clf()\n",
    "#\n",
    "ax = plt.gca()\n",
    "\n",
    "ax.plot(gens, cum_boys, color='blue', label='Boys')\n",
    "ax.plot(gens, cum_girls, color='pink', label='Girls')\n",
    "#\n",
    "ax.legend(fontsize=17.)\n",
    "ax.set_xlabel('Generation')\n",
    "ax.set_ylabel('Number')\n",
    "# make pretty\n",
    "plotting.set_fontsize(ax, 17.)\n",
    "#\n",
    "plt.savefig('boys_girls.png', dpi=200)\n",
    "plt.show()\n"
   ]
  },
  {
   "cell_type": "code",
   "execution_count": null,
   "id": "a1c54a4c-7be7-450b-b86d-c656818fee93",
   "metadata": {},
   "outputs": [],
   "source": []
  }
 ],
 "metadata": {
  "kernelspec": {
   "display_name": "Python 3 (ipykernel)",
   "language": "python",
   "name": "python3"
  },
  "language_info": {
   "codemirror_mode": {
    "name": "ipython",
    "version": 3
   },
   "file_extension": ".py",
   "mimetype": "text/x-python",
   "name": "python",
   "nbconvert_exporter": "python",
   "pygments_lexer": "ipython3",
   "version": "3.9.7"
  }
 },
 "nbformat": 4,
 "nbformat_minor": 5
}
