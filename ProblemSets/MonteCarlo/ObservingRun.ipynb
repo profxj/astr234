{
 "cells": [
  {
   "cell_type": "markdown",
   "id": "a5174b45-694f-4073-9759-809d300808a3",
   "metadata": {},
   "source": [
    "# Ten Night Observing Run\n",
    "\n",
    "## aka, Wall & Jenkins 2.2"
   ]
  },
  {
   "cell_type": "code",
   "execution_count": 1,
   "id": "496abed0-eac0-45a0-ac57-a8c59bab7504",
   "metadata": {},
   "outputs": [],
   "source": [
    "# imports\n",
    "import numpy as np\n",
    "\n",
    "import seaborn as sns\n",
    "import pandas\n",
    "\n",
    "from matplotlib import pyplot as plt\n",
    "\n",
    "from astr234 import plotting"
   ]
  },
  {
   "cell_type": "markdown",
   "id": "24e7af39-bdb3-49b5-9fee-9b2d3116f673",
   "metadata": {},
   "source": [
    "# Problem\n",
    "\n",
    "## Imagine you are on a 10-night observing run and have one target that will benefit from the best possible conditions. Show that, if you wait for five nights and then choose the first night that is better than any of the five, you have a 37% chance of getting the best night of the 10."
   ]
  },
  {
   "cell_type": "markdown",
   "id": "c9bd269a-cb15-4b2a-9ee1-ca29f40a9449",
   "metadata": {},
   "source": [
    "### I will assume that the quality of night is a uniform distribution with values ranging from 0 (worst) to 1 (best)"
   ]
  },
  {
   "cell_type": "markdown",
   "id": "2a5355f9-eb65-4dc9-9f85-fba861858d2e",
   "metadata": {},
   "source": [
    "# Init"
   ]
  },
  {
   "cell_type": "code",
   "execution_count": 2,
   "id": "efc49cd0-d985-49c3-90bd-4154bc012e41",
   "metadata": {},
   "outputs": [],
   "source": [
    "ntrials = 100000"
   ]
  },
  {
   "cell_type": "markdown",
   "id": "e9ecc0ac-5559-40c2-9ed5-0f751d11f2d8",
   "metadata": {},
   "source": [
    "# Generate the 10 nights"
   ]
  },
  {
   "cell_type": "code",
   "execution_count": 3,
   "id": "fc1662bb-21af-4865-83c7-148611a533d2",
   "metadata": {},
   "outputs": [
    {
     "data": {
      "text/plain": [
       "(100000, 10)"
      ]
     },
     "execution_count": 3,
     "metadata": {},
     "output_type": "execute_result"
    }
   ],
   "source": [
    "nights = np.random.uniform(size=(ntrials, 10))\n",
    "nights.shape"
   ]
  },
  {
   "cell_type": "markdown",
   "id": "d74fbd77-56ef-42e6-a30f-31ba183f66e3",
   "metadata": {},
   "source": [
    "## Find the best in the first 5 "
   ]
  },
  {
   "cell_type": "code",
   "execution_count": 4,
   "id": "32cfd23e-4e8b-4bd3-8bb8-53b959e44cc6",
   "metadata": {},
   "outputs": [
    {
     "data": {
      "text/plain": [
       "(100000,)"
      ]
     },
     "execution_count": 4,
     "metadata": {},
     "output_type": "execute_result"
    }
   ],
   "source": [
    "best_of_5 = np.max(nights[:,:5], axis=1)\n",
    "best_of_5.shape"
   ]
  },
  {
   "cell_type": "markdown",
   "id": "265c9067-c56d-45b5-8587-d16b6c7634f9",
   "metadata": {},
   "source": [
    "### Examine"
   ]
  },
  {
   "cell_type": "code",
   "execution_count": 5,
   "id": "0778016a-ee4c-4e5a-b516-89cf6955d3f4",
   "metadata": {},
   "outputs": [
    {
     "data": {
      "image/png": "[encoded data removed]",
      "text/plain": [
       "<Figure size 648x648 with 1 Axes>"
      ]
     },
     "metadata": {
      "needs_background": "light"
     },
     "output_type": "display_data"
    }
   ],
   "source": [
    "plt.figure(figsize=(9,9))\n",
    "plt.clf()\n",
    "ax = plt.gca()\n",
    "sns.histplot(x=best_of_5, ax=ax)\n",
    "#\n",
    "ax.set_xlabel('Best of 5')\n",
    "plotting.set_fontsize(ax, 17)"
   ]
  },
  {
   "cell_type": "markdown",
   "id": "294ea7b6-2d25-42f8-b7d5-7fa3f06c2280",
   "metadata": {},
   "source": [
    "# Find nights better than the first"
   ]
  },
  {
   "cell_type": "code",
   "execution_count": 6,
   "id": "164cabfa-7336-4c26-8a31-6bbaef8ff5e4",
   "metadata": {},
   "outputs": [
    {
     "data": {
      "text/plain": [
       "(100000, 5)"
      ]
     },
     "execution_count": 6,
     "metadata": {},
     "output_type": "execute_result"
    }
   ],
   "source": [
    "better = nights[:, 5:] > np.outer(best_of_5, np.ones(5))\n",
    "better.shape"
   ]
  },
  {
   "cell_type": "markdown",
   "id": "5c38d0c4-5a3c-4c72-a8cd-f4b8b195611c",
   "metadata": {},
   "source": [
    "### Check"
   ]
  },
  {
   "cell_type": "code",
   "execution_count": 7,
   "id": "72f83ab2-d1da-4049-af17-15c09cf3e31c",
   "metadata": {},
   "outputs": [
    {
     "data": {
      "text/plain": [
       "array([2, 2, 2, ..., 0, 3, 0])"
      ]
     },
     "execution_count": 7,
     "metadata": {},
     "output_type": "execute_result"
    }
   ],
   "source": [
    "nbetter = np.sum(better, axis=1)\n",
    "nbetter"
   ]
  },
  {
   "cell_type": "markdown",
   "id": "d9a882ae-7cfc-425a-ba07-37c264f71f8c",
   "metadata": {},
   "source": [
    "### Should happen 1/2 the time"
   ]
  },
  {
   "cell_type": "code",
   "execution_count": 8,
   "id": "08dc7e25-921b-4431-ad4b-9315ab4d1799",
   "metadata": {},
   "outputs": [
    {
     "data": {
      "text/plain": [
       "0.49655"
      ]
     },
     "execution_count": 8,
     "metadata": {},
     "output_type": "execute_result"
    }
   ],
   "source": [
    "np.sum(nbetter > 0) / ntrials"
   ]
  },
  {
   "cell_type": "markdown",
   "id": "f069d2da-5056-448e-b6a7-7b0d2351abaf",
   "metadata": {},
   "source": [
    "# Evaluate"
   ]
  },
  {
   "cell_type": "code",
   "execution_count": 9,
   "id": "65f20f79-4a3d-42bd-a98e-ffe1982a1d4a",
   "metadata": {},
   "outputs": [],
   "source": [
    "nbest = 0\n",
    "for kk, row in enumerate(better):\n",
    "    if np.any(row):\n",
    "        take = np.min(np.where(row))\n",
    "        #import pdb; pdb.set_trace()\n",
    "        if nights[kk, take+5] >= np.max(nights[kk]):\n",
    "            nbest += 1"
   ]
  },
  {
   "cell_type": "code",
   "execution_count": 10,
   "id": "93c0864c-8ced-42d3-93e0-de5c9e8ea2a0",
   "metadata": {},
   "outputs": [
    {
     "data": {
      "text/plain": [
       "0.368"
      ]
     },
     "execution_count": 10,
     "metadata": {},
     "output_type": "execute_result"
    }
   ],
   "source": [
    "nbest/ntrials"
   ]
  },
  {
   "cell_type": "code",
   "execution_count": null,
   "id": "a9d3f60a-d121-4e0b-bf30-ed60d06e3ce0",
   "metadata": {},
   "outputs": [],
   "source": []
  }
 ],
 "metadata": {
  "kernelspec": {
   "display_name": "Python 3 (ipykernel)",
   "language": "python",
   "name": "python3"
  },
  "language_info": {
   "codemirror_mode": {
    "name": "ipython",
    "version": 3
   },
   "file_extension": ".py",
   "mimetype": "text/x-python",
   "name": "python",
   "nbconvert_exporter": "python",
   "pygments_lexer": "ipython3",
   "version": "3.9.7"
  }
 },
 "nbformat": 4,
 "nbformat_minor": 5
}
